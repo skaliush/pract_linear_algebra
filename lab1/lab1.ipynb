{
 "cells": [
  {
   "cell_type": "code",
   "id": "initial_id",
   "metadata": {
    "collapsed": true
   },
   "source": [
    "import random\n",
    "import numpy as np"
   ],
   "outputs": [],
   "execution_count": 71
  },
  {
   "metadata": {},
   "cell_type": "markdown",
   "source": [
    "### Задание 1. Шифр Хилла\n",
    "\n",
    "Возьмем русский алфавит + несколько символов пунктуации и пронумеруем их от 0 до $m - 1$. Чтобы определитель матриц-ключей с большей вероятностью был взаимно простым числом с длиной алфавита $m$, построим наш алфавит так, чтобы его длина была простым числом. В нашем случае число $m = 37$."
   ],
   "id": "84626cd5eef774af"
  },
  {
   "metadata": {
    "ExecuteTime": {
     "end_time": "2024-09-29T12:53:07.361957Z",
     "start_time": "2024-09-29T12:53:07.347127Z"
    }
   },
   "cell_type": "code",
   "source": [
    "alphabet = {\n",
    "    'а': 0, 'б': 1, 'в': 2, 'г': 3, 'д': 4,\n",
    "    'е': 5, 'ё': 6, 'ж': 7, 'з': 8, 'и': 9,\n",
    "    'й': 10, 'к': 11, 'л': 12, 'м': 13, 'н': 14,\n",
    "    'о': 15, 'п': 16, 'р': 17, 'с': 18, 'т': 19,\n",
    "    'у': 20, 'ф': 21, 'х': 22, 'ц': 23, 'ч': 24,\n",
    "    'ш': 25, 'щ': 26, 'ъ': 27, 'ы': 28, 'ь': 29,\n",
    "    'э': 30, 'ю': 31, 'я': 32, ' ': 33, ',': 34,\n",
    "    '.': 35, '?': 36\n",
    "}\n",
    "\n",
    "inverted_alphabet = {value: key for key, value in alphabet.items()}\n",
    "\n",
    "alpha_len = len(alphabet)\n",
    "\n",
    "\n",
    "def letter_to_code(letter):\n",
    "    return alphabet[letter]\n",
    "\n",
    "\n",
    "def code_to_letter(code):\n",
    "    return inverted_alphabet[code]"
   ],
   "id": "c320962db07f40ec",
   "outputs": [],
   "execution_count": 72
  },
  {
   "metadata": {},
   "cell_type": "markdown",
   "source": [
    "#### Encrypting\n",
    "Для шифрования сообщения разобьем его на векторы длины $n$, равной размерности матрицы-ключа (например 2, 3 или 4). Если длина сообщения не делится нацело на такое число, то добавим в конце сообщения пробелы (хоть в случае с 12-символьным сообщением такой проблемы не возникнет).\n",
    "\n",
    "Каждый вектор умножаем на матрицу-ключ, делим по модулю на длину алфавита и составляем назад из полученных векторов зашифрованное сообщение целиком."
   ],
   "id": "dcab65e31e9ed35c"
  },
  {
   "metadata": {
    "ExecuteTime": {
     "end_time": "2024-09-29T12:53:09.346490Z",
     "start_time": "2024-09-29T12:53:09.336437Z"
    }
   },
   "cell_type": "code",
   "source": [
    "def encrypt_msg(msg, key, n):\n",
    "    while len(msg) % n != 0:\n",
    "        msg += ' '\n",
    "\n",
    "    i = 1\n",
    "    block = []\n",
    "    result = ''\n",
    "    for l in msg:\n",
    "        code = letter_to_code(l)\n",
    "        block.append(code)\n",
    "        if i % n == 0:\n",
    "            encrypted_vector = key.dot(block) % alpha_len\n",
    "            for coord in encrypted_vector:\n",
    "                result += code_to_letter(coord)\n",
    "            block = []\n",
    "        i += 1\n",
    "    return result"
   ],
   "id": "dcba10e7879160b7",
   "outputs": [],
   "execution_count": 73
  },
  {
   "metadata": {},
   "cell_type": "markdown",
   "source": "Ниже представлен пример 12-символьного сообщения и его шифрования с помощью матриц-ключей (размерностей $n =$2, 3, 4), чьи определители взаимно просты с длиной алфавита.",
   "id": "d561a83fd51ae8e4"
  },
  {
   "metadata": {
    "ExecuteTime": {
     "end_time": "2024-09-29T12:53:11.357636Z",
     "start_time": "2024-09-29T12:53:11.346727Z"
    }
   },
   "cell_type": "code",
   "source": "msg = 'воля и разум'",
   "id": "88c0b4932c0d0346",
   "outputs": [],
   "execution_count": 74
  },
  {
   "metadata": {
    "ExecuteTime": {
     "end_time": "2024-09-29T12:53:11.900431Z",
     "start_time": "2024-09-29T12:53:11.887067Z"
    }
   },
   "cell_type": "code",
   "source": [
    "key2 = np.array([\n",
    "    [1, 2],\n",
    "    [3, 4],\n",
    "])\n",
    "encrypted_msg2 = encrypt_msg(msg, key2, 2)\n",
    "encrypted_msg2"
   ],
   "id": "ff254606213a3f66",
   "outputs": [
    {
     "data": {
      "text/plain": [
       "'яьвпнчэтпяиб'"
      ]
     },
     "execution_count": 75,
     "metadata": {},
     "output_type": "execute_result"
    }
   ],
   "execution_count": 75
  },
  {
   "metadata": {
    "ExecuteTime": {
     "end_time": "2024-09-29T12:53:13.075984Z",
     "start_time": "2024-09-29T12:53:13.066277Z"
    }
   },
   "cell_type": "code",
   "source": [
    "key3 = np.array([\n",
    "    [6, 24, 1],\n",
    "    [13, 16, 10],\n",
    "    [20, 17, 15],\n",
    "])\n",
    "\n",
    "encrypted_msg3 = encrypt_msg(msg, key3, 3)\n",
    "encrypted_msg3"
   ],
   "id": "20cdb7f741259e0f",
   "outputs": [
    {
     "data": {
      "text/plain": [
       "'нпюю.дн.чц?ь'"
      ]
     },
     "execution_count": 76,
     "metadata": {},
     "output_type": "execute_result"
    }
   ],
   "execution_count": 76
  },
  {
   "metadata": {
    "ExecuteTime": {
     "end_time": "2024-09-29T12:53:14.449199Z",
     "start_time": "2024-09-29T12:53:14.436385Z"
    }
   },
   "cell_type": "code",
   "source": [
    "key4 = np.array([\n",
    "    [11, 2, 3, 4],\n",
    "    [0, 6, 7, 8],\n",
    "    [9, 10, 7, 12],\n",
    "    [13, 3, 1, 16],\n",
    "])\n",
    "\n",
    "encrypted_msg4 = encrypt_msg(msg, key4, 4)\n",
    "encrypted_msg4"
   ],
   "id": "adfc0f2ae1115700",
   "outputs": [
    {
     "data": {
      "text/plain": [
       "'юцжгэнзфр ёэ'"
      ]
     },
     "execution_count": 77,
     "metadata": {},
     "output_type": "execute_result"
    }
   ],
   "execution_count": 77
  },
  {
   "metadata": {},
   "cell_type": "markdown",
   "source": [
    "#### Decrypting\n",
    "Расшифровка производится по алгоритму, аналогичному шифрованию, но с некоторыми важными отличиями.\n",
    "\n",
    "Если шифрование производится по следующему алгоритму:\n",
    "\n",
    "$$C = K M \\text{ (mod $m$)}$$\n",
    "\n",
    "где $K$ - матрица-ключ, $M$ - вектор-сообщение, $C$ - зашифрованный вектор, $m$ - длина алфавита (в нашем случае $m = 37$).\n",
    "\n",
    "То расшифровка выполняется так:\n",
    "\n",
    "$$M = K^{-1} C \\text{ (mod $m$)}$$\n",
    "\n",
    "где $K^{-1}$ - обратная матрица по модулю $m$ к матрице-ключу.\n",
    "\n",
    "Нахождение обратной матрицы по модулю похоже на нахождение обычной обратную матрицу. Отличие заключается в том, что полученная присоединенная матрица приводится к остатку от деления на $m$, а вместо деления на определитель, она умножается на обратный элемент к определителю в кольце по модулю $m$.\n",
    "\n",
    "Для вычисления обратного элемента в кольце по модулю используется расширенный алгоритм Евклида."
   ],
   "id": "963f84f06972ecfd"
  },
  {
   "metadata": {
    "ExecuteTime": {
     "end_time": "2024-09-29T12:53:18.297023Z",
     "start_time": "2024-09-29T12:53:18.287407Z"
    }
   },
   "cell_type": "code",
   "source": [
    "def decrypt_msg(msg, key, n):\n",
    "    if len(msg) % n != 0:\n",
    "        raise ValueError('incorrect code')\n",
    "    inverted_key = matrix_mod_inv(key, alpha_len)\n",
    "\n",
    "    i = 1\n",
    "    block = []\n",
    "    result = ''\n",
    "    for l in msg:\n",
    "        code = letter_to_code(l)\n",
    "        block.append(code)\n",
    "        if i % n == 0:\n",
    "            original_vector = inverted_key.dot(block) % alpha_len\n",
    "            for coord in original_vector:\n",
    "                result += code_to_letter(coord)\n",
    "            block = []\n",
    "        i += 1\n",
    "    return result\n",
    "\n",
    "\n",
    "def matrix_mod_inv(A, m):\n",
    "    det = int(np.round(np.linalg.det(A)))\n",
    "    det_inv = mod_inv(det % m, m)\n",
    "\n",
    "    adjugate_matrix = np.round(det * np.linalg.inv(A)).astype(int) % m\n",
    "\n",
    "    inv_matrix = (det_inv * adjugate_matrix) % m\n",
    "    return inv_matrix\n",
    "\n",
    "\n",
    "def mod_inv(a, m):\n",
    "    g, x, y = extended_gcd(a, m)\n",
    "    if g != 1:\n",
    "        raise ValueError(f\"Обратного элемента для {a} по модулю {m} не существует.\")\n",
    "    else:\n",
    "        return x % m\n",
    "\n",
    "\n",
    "def extended_gcd(a, b):\n",
    "    if a == 0:\n",
    "        return b, 0, 1\n",
    "    else:\n",
    "        g, x, y = extended_gcd(b % a, a)\n",
    "        return g, y - (b // a) * x, x"
   ],
   "id": "175075c81389a940",
   "outputs": [],
   "execution_count": 78
  },
  {
   "metadata": {},
   "cell_type": "markdown",
   "source": "Пример расшифровки сообщения для всех ключей",
   "id": "5e781f910172c1c6"
  },
  {
   "metadata": {
    "ExecuteTime": {
     "end_time": "2024-09-29T12:53:19.980742Z",
     "start_time": "2024-09-29T12:53:19.966958Z"
    }
   },
   "cell_type": "code",
   "source": [
    "decrypted_msg = decrypt_msg(encrypted_msg2, key2, 2)\n",
    "print(decrypted_msg)\n",
    "decrypted_msg = decrypt_msg(encrypted_msg3, key3, 3)\n",
    "print(decrypted_msg)\n",
    "decrypted_msg = decrypt_msg(encrypted_msg4, key4, 4)\n",
    "print(decrypted_msg)"
   ],
   "id": "fdc6e08cae95d1f9",
   "outputs": [
    {
     "name": "stdout",
     "output_type": "stream",
     "text": [
      "воля и разум\n",
      "воля и разум\n",
      "воля и разум\n"
     ]
    }
   ],
   "execution_count": 79
  },
  {
   "metadata": {},
   "cell_type": "markdown",
   "source": "Сымитируем вредоносное вмешательство в зашифрованные сообщения, изменив в каждом сообщении по 3 символа на другие случайные символы из алфавита.",
   "id": "3fa43e91369b3647"
  },
  {
   "metadata": {
    "ExecuteTime": {
     "end_time": "2024-09-29T12:53:22.636656Z",
     "start_time": "2024-09-29T12:53:22.626163Z"
    }
   },
   "cell_type": "code",
   "source": [
    "def replace_char_by_index(text, index, replacement):\n",
    "    return f'{text[:index]}{replacement}{text[index + 1:]}'\n",
    "\n",
    "\n",
    "def break_message(msg, times=3):\n",
    "    for i in range(times):\n",
    "        random_symbol = code_to_letter(random.randint(0, alpha_len - 1))\n",
    "        random_index = random.randint(0, len(msg) - 1)\n",
    "        msg = replace_char_by_index(msg, random_index, random_symbol)\n",
    "    return msg\n",
    "\n",
    "\n",
    "broken_encrypted_msg2 = break_message(encrypted_msg2)\n",
    "broken_encrypted_msg3 = break_message(encrypted_msg3)\n",
    "broken_encrypted_msg4 = break_message(encrypted_msg4)\n",
    "\n",
    "decrypted_msg = decrypt_msg(broken_encrypted_msg2, key2, 2)\n",
    "print(decrypted_msg)\n",
    "decrypted_msg = decrypt_msg(broken_encrypted_msg3, key3, 3)\n",
    "print(decrypted_msg)\n",
    "decrypted_msg = decrypt_msg(broken_encrypted_msg4, key4, 4)\n",
    "print(decrypted_msg)"
   ],
   "id": "4e26a4629ac46931",
   "outputs": [
    {
     "name": "stdout",
     "output_type": "stream",
     "text": [
      "воц  и раз?е\n",
      "волтдвбухзум\n",
      "рю,йтдюдазум\n"
     ]
    }
   ],
   "execution_count": 80
  },
  {
   "metadata": {},
   "cell_type": "markdown",
   "source": "Сообщения с меньшей размерностью ключа меньше подвержены вредоносным вмешательствам, т.к. они делятся на большее количество независимых блоков и фиксированное количество ошибок затрагивает меньший процент от всего сообщения.",
   "id": "b3e5a86e74ba4fd5"
  },
  {
   "metadata": {},
   "cell_type": "markdown",
   "source": [
    "### Задание 2. Взлом шифра Хилла\n",
    "\n",
    "По сути задача взлома шифра сводится к нахождению матрицы-ключа, далее просто применяется механизм расшифровки. Разберемся что для этого нужно и напишем такую функцию.\n",
    "\n",
    "Просто так из вышеописанного уравнения\n",
    "$$C = K M \\text{ (mod $m$)}$$\n",
    "при известных векторах $M$ и $C$ невозможно однозначно получить матрицу $K$.\n",
    "\n",
    "Однако если взять $n$ векторов и представить их в виде матрицы $n \\times n$, то для полученной матрицы $M$ получится найти обратную. Тогда нахождение матрицы ключа будет выглядит следующим образом:\n",
    "$$K = C M^{-1} \\text{ (mod $m$)}$$\n",
    "\n",
    "В связи с этим для взлома ключа появляется ограничение: для составления матрицы необходимо $n$ векторов размерности $n$, т.е. нам нужен оригинал сообщения и его шифр, длина которых должна быть равна как минимум $n^2$ символов.\n",
    "\n",
    "Исходя из этого, зная оригинал и шифр 12-символьного сообщения, мы можем найти ключ размерности 2 и 3, но не ключ размерности 4, т.к. $12 < 4^2$.\n",
    "\n",
    "Ещё одно ограничение заключается в том, что матрица $M$ должна быть обратимой в кольце по модулю $m$."
   ],
   "id": "160459e0a4a33bc"
  },
  {
   "metadata": {
    "ExecuteTime": {
     "end_time": "2024-09-29T12:53:26.746496Z",
     "start_time": "2024-09-29T12:53:26.737294Z"
    }
   },
   "cell_type": "code",
   "source": [
    "def hack_cipher(encrypted_msg, original_msg, n):\n",
    "    n_squared = n ** 2\n",
    "    if len(encrypted_msg) < n_squared or len(original_msg) < n_squared:\n",
    "        raise ValueError(\"the key matrix can't be calculated\")\n",
    "    encrypted_msg = encrypted_msg[:n_squared]\n",
    "    original_msg = original_msg[:n_squared]\n",
    "    C = np.array(list(map(letter_to_code, encrypted_msg)))\n",
    "    C.shape = (n, n)\n",
    "    C = C.transpose()\n",
    "    P = np.array(list(map(letter_to_code, original_msg)))\n",
    "    P.shape = (n, n)\n",
    "    P = P.transpose()\n",
    "    P_inv = matrix_mod_inv(P, alpha_len)\n",
    "    return C.dot(P_inv) % alpha_len"
   ],
   "id": "2fa09bef214ba24a",
   "outputs": [],
   "execution_count": 81
  },
  {
   "metadata": {},
   "cell_type": "markdown",
   "source": "Ниже продемонстрировано успешное вычисление ключей-матриц для размерностей 2 и 3.",
   "id": "1169d09ae5b3278b"
  },
  {
   "metadata": {
    "ExecuteTime": {
     "end_time": "2024-09-29T12:53:28.551833Z",
     "start_time": "2024-09-29T12:53:28.547516Z"
    }
   },
   "cell_type": "code",
   "source": [
    "solved_key2 = hack_cipher(encrypted_msg2, msg, 2)\n",
    "print(solved_key2)\n",
    "solved_key3 = hack_cipher(encrypted_msg3, msg, 3)\n",
    "print(solved_key3)"
   ],
   "id": "6353ac99a2396ff5",
   "outputs": [
    {
     "name": "stdout",
     "output_type": "stream",
     "text": [
      "[[1 2]\n",
      " [3 4]]\n",
      "[[ 6 24  1]\n",
      " [13 16 10]\n",
      " [20 17 15]]\n"
     ]
    }
   ],
   "execution_count": 82
  },
  {
   "metadata": {},
   "cell_type": "markdown",
   "source": "Однако, как выше упоминалось, вычисление ключа-матрицы размерности 4 невозможно.",
   "id": "bb51df5180140e59"
  },
  {
   "metadata": {
    "ExecuteTime": {
     "end_time": "2024-09-29T12:53:31.310279Z",
     "start_time": "2024-09-29T12:53:31.266250Z"
    }
   },
   "cell_type": "code",
   "source": "solved_key4 = hack_cipher('юцжгэнзфр ёэ', 'воля и разум', 4)",
   "id": "bda71a33f623c680",
   "outputs": [
    {
     "ename": "ValueError",
     "evalue": "the key matrix can't be calculated",
     "output_type": "error",
     "traceback": [
      "\u001B[1;31m---------------------------------------------------------------------------\u001B[0m",
      "\u001B[1;31mValueError\u001B[0m                                Traceback (most recent call last)",
      "Cell \u001B[1;32mIn[83], line 1\u001B[0m\n\u001B[1;32m----> 1\u001B[0m solved_key4 \u001B[38;5;241m=\u001B[39m hack_cipher(\u001B[38;5;124m'\u001B[39m\u001B[38;5;124mюцжгэнзфр ёэ\u001B[39m\u001B[38;5;124m'\u001B[39m, \u001B[38;5;124m'\u001B[39m\u001B[38;5;124mволя и разум\u001B[39m\u001B[38;5;124m'\u001B[39m, \u001B[38;5;241m4\u001B[39m)\n",
      "Cell \u001B[1;32mIn[81], line 4\u001B[0m, in \u001B[0;36mhack_cipher\u001B[1;34m(encrypted_msg, original_msg, n)\u001B[0m\n\u001B[0;32m      2\u001B[0m n_squared \u001B[38;5;241m=\u001B[39m n \u001B[38;5;241m*\u001B[39m\u001B[38;5;241m*\u001B[39m \u001B[38;5;241m2\u001B[39m\n\u001B[0;32m      3\u001B[0m \u001B[38;5;28;01mif\u001B[39;00m \u001B[38;5;28mlen\u001B[39m(encrypted_msg) \u001B[38;5;241m<\u001B[39m n_squared \u001B[38;5;129;01mor\u001B[39;00m \u001B[38;5;28mlen\u001B[39m(original_msg) \u001B[38;5;241m<\u001B[39m n_squared:\n\u001B[1;32m----> 4\u001B[0m     \u001B[38;5;28;01mraise\u001B[39;00m \u001B[38;5;167;01mValueError\u001B[39;00m(\u001B[38;5;124m\"\u001B[39m\u001B[38;5;124mthe key matrix can\u001B[39m\u001B[38;5;124m'\u001B[39m\u001B[38;5;124mt be calculated\u001B[39m\u001B[38;5;124m\"\u001B[39m)\n\u001B[0;32m      5\u001B[0m encrypted_msg \u001B[38;5;241m=\u001B[39m encrypted_msg[:n_squared]\n\u001B[0;32m      6\u001B[0m original_msg \u001B[38;5;241m=\u001B[39m original_msg[:n_squared]\n",
      "\u001B[1;31mValueError\u001B[0m: the key matrix can't be calculated"
     ]
    }
   ],
   "execution_count": 83
  },
  {
   "metadata": {},
   "cell_type": "markdown",
   "source": [
    "### Задание 3. Код Хэмминга\n",
    "\n",
    "Построим бинарный алфавит для трансляции текста сообщения в поток битов."
   ],
   "id": "a4ffd83a91b3c117"
  },
  {
   "metadata": {
    "ExecuteTime": {
     "end_time": "2024-09-29T12:53:42.482026Z",
     "start_time": "2024-09-29T12:53:42.466509Z"
    }
   },
   "cell_type": "code",
   "source": [
    "binary_alphabet = {\n",
    "    'А': '00000', 'Б': '00001', 'В': '00010', 'Г': '00011', 'Д': '00100',\n",
    "    'Е': '00101', 'Ж': '00110', 'З': '00111', 'И': '01000', 'Й': '01001',\n",
    "    'К': '01010', 'Л': '01011', 'М': '01100', 'Н': '01101', 'О': '01110',\n",
    "    'П': '01111', 'Р': '10000', 'С': '10001', 'Т': '10010', 'У': '10011',\n",
    "    'Ф': '10100', 'Х': '10101', 'Ц': '10110', 'Ч': '10111', 'Ш': '11000',\n",
    "    'Щ': '11001', 'Ъ': '11010', 'Ы': '11011', 'Ь': '11100', 'Э': '11101',\n",
    "    'Ю': '11110', 'Я': '11111',\n",
    "}\n",
    "\n",
    "inverted_binary_alphabet = {value: key for key, value in binary_alphabet.items()}\n",
    "\n",
    "\n",
    "def translate_text_to_bits(text):\n",
    "    sequence = ''\n",
    "    for l in text:\n",
    "        sequence += binary_alphabet[l]\n",
    "    return sequence\n",
    "\n",
    "\n",
    "def translate_bits_to_text(bits):\n",
    "    i = 1\n",
    "    letter_code = ''\n",
    "    text = ''\n",
    "    for b in bits:\n",
    "        letter_code += b\n",
    "        if i % 5 == 0:\n",
    "            text += inverted_binary_alphabet[letter_code]\n",
    "            letter_code = ''\n",
    "        i += 1\n",
    "    return text"
   ],
   "id": "6b6d882cdaddb1a2",
   "outputs": [],
   "execution_count": 84
  },
  {
   "metadata": {},
   "cell_type": "markdown",
   "source": "Возьмем сообщение из 4 букв и переведем его в бинарный алфавит.",
   "id": "f5f4bcb29692d737"
  },
  {
   "metadata": {
    "ExecuteTime": {
     "end_time": "2024-09-29T12:53:44.594472Z",
     "start_time": "2024-09-29T12:53:44.587763Z"
    }
   },
   "cell_type": "code",
   "source": [
    "text_msg = 'МИРА'\n",
    "msg = translate_text_to_bits(text_msg)\n",
    "msg"
   ],
   "id": "f5f39a9498961d4d",
   "outputs": [
    {
     "data": {
      "text/plain": [
       "'01100010001000000000'"
      ]
     },
     "execution_count": 85,
     "metadata": {},
     "output_type": "execute_result"
    }
   ],
   "execution_count": 85
  },
  {
   "metadata": {},
   "cell_type": "markdown",
   "source": [
    "Кодирование Хэмминга основано на добавлении к сообщению избыточных контрольных битов, которые указывают на четность суммы определенных битов сообщения. Данная операция помогает обнаруживать, а иногда даже исправлять ошибки, возникшие в сообщении при передаче.\n",
    "\n",
    "В результирующем коде контрольные биты стоят на местах, чьи номера равны степеням двойки. Т.е. контрольный бит $r_i$ стоит на месте $2^{i-1}$. Каждый из них дополняет до четности сумму всех битов из последовательности групп по $i$ бит через каждые $i$ бит, начиная с места этого контрольного бита.\n",
    "\n",
    "Чтобы контрольный бит дополнял такую сумму, необходимо чтобы он равнялся сумме по модулю 2 всех битов из этой последовательности.\n",
    "\n",
    "Исходя из этих соображений и строится матрица $G$ для трансформации сообщения в код с контрольными битами. После этого дополнительно в начало кода (т.е. на место с индексом 0) добавляется бит общей четности.\n",
    "\n",
    "Также присутствует ограничение на длину кодируемой последовательности битов: она должна нацело делиться на кол-во полезных битов в одном блоке (в нашем случае - 4)."
   ],
   "id": "2cee33f4b0c651e"
  },
  {
   "metadata": {
    "ExecuteTime": {
     "end_time": "2024-09-29T12:53:47.027818Z",
     "start_time": "2024-09-29T12:53:47.016212Z"
    }
   },
   "cell_type": "code",
   "source": [
    "def encode_hamming74(msg):\n",
    "    r = 3\n",
    "    n = 2 ** r - 1\n",
    "    k = n - r\n",
    "\n",
    "    if len(msg) % k != 0:\n",
    "        raise ValueError('incorrect message length or number of control bits')\n",
    "\n",
    "    i = 1\n",
    "    block = []\n",
    "    result = ''\n",
    "\n",
    "    G = [\n",
    "        [1, 1, 1, 0, 0, 0, 0],\n",
    "        [1, 0, 0, 1, 1, 0, 0],\n",
    "        [0, 1, 0, 1, 0, 1, 0],\n",
    "        [1, 1, 0, 1, 0, 0, 1],\n",
    "    ]\n",
    "\n",
    "    for b in msg:\n",
    "        block.append(int(b))\n",
    "        if i % k == 0:\n",
    "            encrypted_block = np.dot(block, G) % 2\n",
    "            total_parity_bit = encrypted_block.sum() % 2\n",
    "            encrypted_block = np.append(encrypted_block, total_parity_bit)\n",
    "            encrypted_string = ''.join(encrypted_block.astype(str))\n",
    "            result += encrypted_string\n",
    "            block = []\n",
    "        i += 1\n",
    "    return result"
   ],
   "id": "d14f4e0dbbefa061",
   "outputs": [],
   "execution_count": 86
  },
  {
   "metadata": {},
   "cell_type": "markdown",
   "source": "Закодируем нашу последовательность битов",
   "id": "3a8a2d949bc21b47"
  },
  {
   "metadata": {
    "ExecuteTime": {
     "end_time": "2024-09-29T12:53:49.179624Z",
     "start_time": "2024-09-29T12:53:49.166224Z"
    }
   },
   "cell_type": "code",
   "source": [
    "encoded_msg = encode_hamming74(msg)\n",
    "encoded_msg"
   ],
   "id": "c2654f09e5a9fb1d",
   "outputs": [
    {
     "data": {
      "text/plain": [
       "'1100110001010101010101010000000000000000'"
      ]
     },
     "execution_count": 87,
     "metadata": {},
     "output_type": "execute_result"
    }
   ],
   "execution_count": 87
  },
  {
   "metadata": {},
   "cell_type": "markdown",
   "source": [
    "Проверка корректности сообщения при декодировании основана на проверки четности определенных последовательностей битов (аналогично кодированию). Четность последовательности вместе с её контрольным битом называется синдромом ошибки $S_i$. Если синдром для каждой последовательности равен нулю, то ошибок в блоке нет.\n",
    "\n",
    "Также проверяется общая четность блока с помощью соответствующего бита. Это помогает определить общее количество обнаруженных ошибок в блоке. Если оно нечетно, то допуская, что ошибка всего одна, мы можем попробовать её исправить. Если четно, то исправить ошибку невозможно.\n",
    "\n",
    "В случае одной ошибки, индекс ошибочного бита можно однозначно определить с помощью синдромов ошибки. Он будет равен:\n",
    "$$j_{err} = \\sum_{i=1}^{r} S_i \\cdot 2^{i-1}$$"
   ],
   "id": "7fe48b227b3c4c53"
  },
  {
   "metadata": {
    "ExecuteTime": {
     "end_time": "2024-09-29T13:20:53.453290Z",
     "start_time": "2024-09-29T13:20:53.439456Z"
    }
   },
   "cell_type": "code",
   "source": [
    "def decode_hamming74(code):\n",
    "    r = 3\n",
    "    n = 2 ** r - 1\n",
    "    k = n - r\n",
    "\n",
    "    H = [\n",
    "        [1, 0, 0],\n",
    "        [0, 1, 0],\n",
    "        [1, 1, 0],\n",
    "        [0, 0, 1],\n",
    "        [1, 0, 1],\n",
    "        [0, 1, 1],\n",
    "        [1, 1, 1],\n",
    "    ]\n",
    "\n",
    "    i = 1\n",
    "    block = []\n",
    "    result = ''\n",
    "    j = 1\n",
    "    for b in code:\n",
    "        block.append(int(b))\n",
    "        if i % (n + 1) == 0:\n",
    "            # checking & fixing possible errors\n",
    "            total_parity = not bool(int(sum(block) % 2))\n",
    "            del block[-1]  # deleting the total parity bit\n",
    "\n",
    "            error_syndrome = np.dot(block, H) % 2\n",
    "            is_error_exist = sum(error_syndrome) > 0\n",
    "            if is_error_exist:\n",
    "                if total_parity:\n",
    "                    print(f'[Блок {j}]: Обнаружено четное количество ошибок: восстановить блок невозможно')\n",
    "                else:\n",
    "                    print(f'[Блок {j}]: Обнаружено нечетное количество ошибок: попытка восстановить ошибку')\n",
    "                    broken_index = int(''.join(map(str, error_syndrome[::-1])), 2) - 1\n",
    "                    block[broken_index] = int(not bool(block[broken_index]))\n",
    "            else:\n",
    "                if total_parity:\n",
    "                    print(f'[Блок {j}]: Ошибок не обнаружено')\n",
    "                else:\n",
    "                    print(f'[Блок {j}]: Ошибка обнаружена в бите общей четности')\n",
    "\n",
    "            # extracting the content bits\n",
    "            for power in range(r - 1, -1, -1):\n",
    "                del block[2 ** power - 1]  # deleting check bits\n",
    "            result += ''.join(map(str, block))\n",
    "            block = []\n",
    "            j += 1\n",
    "        i += 1\n",
    "    return result"
   ],
   "id": "7783c39dc14116f3",
   "outputs": [],
   "execution_count": 104
  },
  {
   "metadata": {},
   "cell_type": "markdown",
   "source": "Удостоверимся, что декодирование работает правильно на невредимом сообщении.",
   "id": "bbd60c1575224ca5"
  },
  {
   "metadata": {
    "ExecuteTime": {
     "end_time": "2024-09-29T13:23:51.925387Z",
     "start_time": "2024-09-29T13:23:51.919396Z"
    }
   },
   "cell_type": "code",
   "source": [
    "decoded_msg = decode_hamming74(encoded_msg)\n",
    "translate_bits_to_text(decoded_msg)"
   ],
   "id": "6339fa51fca420ba",
   "outputs": [
    {
     "name": "stdout",
     "output_type": "stream",
     "text": [
      "[Блок 1]: Ошибок не обнаружено\n",
      "[Блок 2]: Ошибок не обнаружено\n",
      "[Блок 3]: Ошибок не обнаружено\n",
      "[Блок 4]: Ошибок не обнаружено\n",
      "[Блок 5]: Ошибок не обнаружено\n"
     ]
    },
    {
     "data": {
      "text/plain": [
       "'МИРА'"
      ]
     },
     "execution_count": 106,
     "metadata": {},
     "output_type": "execute_result"
    }
   ],
   "execution_count": 106
  },
  {
   "metadata": {},
   "cell_type": "markdown",
   "source": "Сымитируем вредоносное вмешательство, последовательно добавляя от 1 до 4 ошибок в закодированное сообщение.",
   "id": "a486f965644cfef9"
  },
  {
   "metadata": {
    "ExecuteTime": {
     "end_time": "2024-09-29T13:28:26.011595Z",
     "start_time": "2024-09-29T13:28:26.007232Z"
    }
   },
   "cell_type": "code",
   "source": [
    "def beat_the_bit(sequence, index):\n",
    "    random_bit = bool(int(sequence[index]))\n",
    "    return replace_char_by_index(sequence, index, str(int(not random_bit)))\n",
    "\n",
    "\n",
    "def beat_random_bit(sequence):\n",
    "    random_index = random.randint(0, len(sequence) - 1)\n",
    "    return beat_the_bit(sequence, random_index)"
   ],
   "id": "32113f9f53ec9739",
   "outputs": [],
   "execution_count": 115
  },
  {
   "metadata": {
    "ExecuteTime": {
     "end_time": "2024-09-29T13:28:26.454611Z",
     "start_time": "2024-09-29T13:28:26.447647Z"
    }
   },
   "cell_type": "code",
   "source": [
    "broken_msg = beat_random_bit(encoded_msg)\n",
    "translate_bits_to_text(decode_hamming74(broken_msg))"
   ],
   "id": "c79dabba5fb5c92a",
   "outputs": [
    {
     "name": "stdout",
     "output_type": "stream",
     "text": [
      "[Блок 1]: Ошибок не обнаружено\n",
      "[Блок 2]: Ошибок не обнаружено\n",
      "[Блок 3]: Обнаружено нечетное количество ошибок: попытка восстановить ошибку\n",
      "[Блок 4]: Ошибок не обнаружено\n",
      "[Блок 5]: Ошибок не обнаружено\n"
     ]
    },
    {
     "data": {
      "text/plain": [
       "'МИРА'"
      ]
     },
     "execution_count": 116,
     "metadata": {},
     "output_type": "execute_result"
    }
   ],
   "execution_count": 116
  },
  {
   "metadata": {
    "ExecuteTime": {
     "end_time": "2024-09-29T13:29:24.066139Z",
     "start_time": "2024-09-29T13:29:24.058093Z"
    }
   },
   "cell_type": "code",
   "source": [
    "double_broken_msg = beat_random_bit(beat_random_bit(encoded_msg))\n",
    "translate_bits_to_text(decode_hamming74(double_broken_msg))"
   ],
   "id": "4ee10fe6737b0a03",
   "outputs": [
    {
     "name": "stdout",
     "output_type": "stream",
     "text": [
      "[Блок 1]: Ошибок не обнаружено\n",
      "[Блок 2]: Обнаружено четное количество ошибок: восстановить блок невозможно\n",
      "[Блок 3]: Ошибок не обнаружено\n",
      "[Блок 4]: Ошибок не обнаружено\n",
      "[Блок 5]: Ошибок не обнаружено\n"
     ]
    },
    {
     "data": {
      "text/plain": [
       "'НАРА'"
      ]
     },
     "execution_count": 124,
     "metadata": {},
     "output_type": "execute_result"
    }
   ],
   "execution_count": 124
  },
  {
   "metadata": {
    "ExecuteTime": {
     "end_time": "2024-09-29T13:29:54.803454Z",
     "start_time": "2024-09-29T13:29:54.797527Z"
    }
   },
   "cell_type": "code",
   "source": [
    "triple_broken_msg = beat_random_bit(beat_random_bit(beat_random_bit(encoded_msg)))\n",
    "translate_bits_to_text(decode_hamming74(triple_broken_msg))"
   ],
   "id": "5f2863a8e92f16e2",
   "outputs": [
    {
     "name": "stdout",
     "output_type": "stream",
     "text": [
      "[Блок 1]: Обнаружено четное количество ошибок: восстановить блок невозможно\n",
      "[Блок 2]: Ошибок не обнаружено\n",
      "[Блок 3]: Ошибок не обнаружено\n",
      "[Блок 4]: Ошибка обнаружена в бите общей четности\n",
      "[Блок 5]: Ошибок не обнаружено\n"
     ]
    },
    {
     "data": {
      "text/plain": [
       "'КИРА'"
      ]
     },
     "execution_count": 127,
     "metadata": {},
     "output_type": "execute_result"
    }
   ],
   "execution_count": 127
  },
  {
   "metadata": {
    "ExecuteTime": {
     "end_time": "2024-09-29T13:31:24.545729Z",
     "start_time": "2024-09-29T13:31:24.539198Z"
    }
   },
   "cell_type": "code",
   "source": [
    "quadruple_broken_msg = beat_random_bit(beat_random_bit(beat_random_bit(beat_random_bit(encoded_msg))))\n",
    "translate_bits_to_text(decode_hamming74(quadruple_broken_msg))"
   ],
   "id": "fd9526e6e15e182b",
   "outputs": [
    {
     "name": "stdout",
     "output_type": "stream",
     "text": [
      "[Блок 1]: Обнаружено нечетное количество ошибок: попытка восстановить ошибку\n",
      "[Блок 2]: Ошибок не обнаружено\n",
      "[Блок 3]: Обнаружено нечетное количество ошибок: попытка восстановить ошибку\n",
      "[Блок 4]: Обнаружено четное количество ошибок: восстановить блок невозможно\n",
      "[Блок 5]: Ошибок не обнаружено\n"
     ]
    },
    {
     "data": {
      "text/plain": [
       "'МИТР'"
      ]
     },
     "execution_count": 129,
     "metadata": {},
     "output_type": "execute_result"
    }
   ],
   "execution_count": 129
  },
  {
   "metadata": {},
   "cell_type": "markdown",
   "source": [
    "Как и ожидалось, код Хэмминга гарантированно может устранить 1 ошибку в блоке. Если ошибки 3, то код не сможет этого распознать и, допустив, что ошибка всего одна, попытается её исправить. Если же ошибки 2 или 4, то код обнаружит наличие ошибок, но не сможет их исправить.\n",
    "\n",
    "Интересное замечание состоит в том, что не всегда ошибка в блоке портит само сообщение, т.к. ошибка может оказаться в одном из битов четности. Также важно отметить, что важным при корректировке является именно кол-во ошибок, попавших в один блок, а не во всё сообщение.\n",
    "\n",
    "Исходя из двух вышеописанных замечаний легко сделать вывод, что устойчивость сообщения закодированного кодом Хэмминга зависит от выбранного размера блоков: если например выбрать тип кода (15, 11) вместо (7, 4), то устойчивость ухудшится. Однако за бо́льшую устойчивость мы платим бо́льшим количеством избыточной информации, а также бо́льшим количеством вычислений при кодировании и декодировании."
   ],
   "id": "1ca70c292248caca"
  }
 ],
 "metadata": {
  "kernelspec": {
   "display_name": "Python 3",
   "language": "python",
   "name": "python3"
  },
  "language_info": {
   "codemirror_mode": {
    "name": "ipython",
    "version": 2
   },
   "file_extension": ".py",
   "mimetype": "text/x-python",
   "name": "python",
   "nbconvert_exporter": "python",
   "pygments_lexer": "ipython2",
   "version": "2.7.6"
  }
 },
 "nbformat": 4,
 "nbformat_minor": 5
}
